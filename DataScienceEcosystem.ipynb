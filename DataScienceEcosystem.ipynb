{
 "cells": [
  {
   "cell_type": "markdown",
   "id": "4646d5a1-2ec1-413b-b4a7-fe86124fcff8",
   "metadata": {},
   "source": [
    "# Data Science Tools and Ecosystem"
   ]
  },
  {
   "cell_type": "markdown",
   "id": "d3a79b51-a7a2-4b6e-a319-7ec27b1e9cc6",
   "metadata": {},
   "source": [
    "En este cuaderno, se resumen las herramientas y ecosistemas de ciencia de datos."
   ]
  },
  {
   "cell_type": "markdown",
   "id": "795a5c87-cba8-4cb3-a9ea-739c0c179a0f",
   "metadata": {},
   "source": [
    "**Objetivo:**\n",
    "1. Conocer los lenguajes populares utilizados en la ciencia de datos\n",
    "\n",
    "2. Conocer las bibliotecas utilizados por cientificos de datos\n",
    "\n",
    "3. Herramientas de ciencia de datos\n",
    "\n",
    "4. Operaciones aritmeticas en Python"
   ]
  },
  {
   "cell_type": "markdown",
   "id": "3d6b443b-7b30-4a82-80dd-4733ac656c6b",
   "metadata": {},
   "source": [
    "Algunas de los lenguajes populares que utilizan los cientificos de datos son:\n",
    "\n",
    "1.Python\n",
    "\n",
    "2.R\n",
    "\n",
    "3.Julia\n",
    "\n",
    "4.SQL"
   ]
  },
  {
   "cell_type": "markdown",
   "id": "e424c954-07bb-4ecd-b97e-f0ce96badfde",
   "metadata": {},
   "source": [
    "Algunas de las bibliotecas comunmente utilizadas por los cientificos de datos incluyen:\n",
    "\n",
    "1.Pandas\n",
    "\n",
    "2.Numpy\n",
    "\n",
    "3.Matplotlib\n",
    "\n",
    "4.Scikit-learn\n",
    "\n",
    "5.TensorFLow"
   ]
  },
  {
   "cell_type": "markdown",
   "id": "a4e96106-a8b7-4b13-b681-b83be7ec1d8e",
   "metadata": {},
   "source": [
    "| Herramientas de ciencia de datos |\n",
    "|----------------------------------|\n",
    "| Jupyter Notebooks                |\n",
    "|----------------------------------|\n",
    "| RStudio                          |\n",
    "|----------------------------------|\n",
    "| Apache Spark                     |"
   ]
  },
  {
   "cell_type": "markdown",
   "id": "3ed8819c-ffbc-4032-a671-4353b4d0d346",
   "metadata": {},
   "source": [
    "### A continuacion, se presentan algunos ejemplos de evaluacion de expresiones aritmeticas en Python"
   ]
  },
  {
   "cell_type": "code",
   "execution_count": 3,
   "id": "576e15d7-e53f-4f42-9f5f-e0923902cd3b",
   "metadata": {},
   "outputs": [
    {
     "data": {
      "text/plain": [
       "17"
      ]
     },
     "execution_count": 3,
     "metadata": {},
     "output_type": "execute_result"
    }
   ],
   "source": [
    "#Esta es una expresion aritmetica simple para multiplicar y luego suma enteros\n",
    "(3*4)+5"
   ]
  },
  {
   "cell_type": "code",
   "execution_count": 4,
   "id": "eea601a9-9d8f-4d24-b582-f623e88489f9",
   "metadata": {},
   "outputs": [
    {
     "data": {
      "text/plain": [
       "3.3333333333333335"
      ]
     },
     "execution_count": 4,
     "metadata": {},
     "output_type": "execute_result"
    }
   ],
   "source": [
    "#Esto convertira 200 minutos a horas por 60\n",
    "200/60"
   ]
  },
  {
   "cell_type": "markdown",
   "id": "3b9908b6-45d9-46a9-b3a5-b43eebeb44bc",
   "metadata": {},
   "source": [
    "## Autor"
   ]
  },
  {
   "cell_type": "markdown",
   "id": "6cd99ed1-60c2-4330-9e62-6d021ecb8b23",
   "metadata": {},
   "source": [
    "Osuna Torres Miguel Angel"
   ]
  },
  {
   "cell_type": "code",
   "execution_count": null,
   "id": "3ecee8f8-1634-426a-9a5f-13bb06a20742",
   "metadata": {},
   "outputs": [],
   "source": []
  }
 ],
 "metadata": {
  "kernelspec": {
   "display_name": "Python 3 (ipykernel)",
   "language": "python",
   "name": "python3"
  },
  "language_info": {
   "codemirror_mode": {
    "name": "ipython",
    "version": 3
   },
   "file_extension": ".py",
   "mimetype": "text/x-python",
   "name": "python",
   "nbconvert_exporter": "python",
   "pygments_lexer": "ipython3",
   "version": "3.11.9"
  }
 },
 "nbformat": 4,
 "nbformat_minor": 5
}
